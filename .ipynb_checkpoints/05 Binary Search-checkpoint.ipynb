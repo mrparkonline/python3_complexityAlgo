{
 "cells": [
  {
   "cell_type": "markdown",
   "metadata": {},
   "source": [
    "# Binary Search\n",
    "---\n",
    "A searching algorithm that is designed to search from a sorted list.\n",
    "\n",
    "**Idea:**\n",
    "- Compare the target with the middle most value\n",
    "- If not found, eliminate the half where the target cannot exist \n",
    "\n",
    "**Cons/Caveat:**\n",
    "- The database must be comparable and sortable\n",
    "\n",
    "## Algorithm\n",
    "```\n",
    "Let A be a sorted array; N be length of A; T be searching target\n",
    "\n",
    "    1. Set Left=0 and Right=N-1\n",
    "    2. while Left <= Right:\n",
    "    3. Set Middle to the floor of (Left + Right)/2\n",
    "    4. If A[Middle] < T, set Left = middle+1 and go to step 2\n",
    "    5. If A[Middle] > T, set Right = middle-1 and go to step 2\n",
    "    6. If A[Middle] == T, return Middle as search is done\n",
    "```\n",
    "\n",
    "## Algorithm Demonstration\n",
    "\n",
    "- First is a binary search and showing how it'd work\n",
    "- Second is a sequential search which is the same as a linear search\n",
    "\n",
    "<img src='./src/binSearch.gif'/>"
   ]
  },
  {
   "cell_type": "markdown",
   "metadata": {},
   "source": [
    "## Complexity of Binary Search\n",
    "\n",
    "Big O Notation $O(log n)$\n",
    "\n",
    "We are splitting the dataset continuously into halves until we hit our target or not find our target.\n",
    "\n",
    "It is considered very efficient!\n",
    "\n",
    "## Python Implementations"
   ]
  },
  {
   "cell_type": "code",
   "execution_count": 4,
   "metadata": {},
   "outputs": [
    {
     "name": "stdout",
     "output_type": "stream",
     "text": [
      "Search for 37: 11\n",
      "Search for 21: -1\n"
     ]
    }
   ],
   "source": [
    "# Tail Recursive Binary Search\n",
    "\n",
    "def r_binSearch(array, target, track=0):\n",
    "    left = 0\n",
    "    right = len(array)-1\n",
    "\n",
    "    if not array:\n",
    "        return track\n",
    "    elif len(array) == 1 and array[0] != target:\n",
    "        return -1\n",
    "    else:\n",
    "        middle = (left + right) // 2\n",
    "\n",
    "        if array[middle] == target:\n",
    "            return track+middle\n",
    "        elif array[middle] < target:\n",
    "            return r_binSearch(array[middle+1:], target, track + middle + 1)\n",
    "        else:\n",
    "            return r_binSearch(array[:middle], target, track)\n",
    "\n",
    "# end of r_binSearch\n",
    "\n",
    "test_set = [1, 3, 5, 7, 11, 13, 17, 19, 23, 29, 31, 37, 41, 43, 47, 53, 59]\n",
    "\n",
    "print('Search for 37:', r_binSearch(test_set, 37))\n",
    "print('Search for 21:', r_binSearch(test_set, 21))"
   ]
  },
  {
   "cell_type": "code",
   "execution_count": 5,
   "metadata": {},
   "outputs": [
    {
     "name": "stdout",
     "output_type": "stream",
     "text": [
      "Search for 37: 11\n",
      "Search for 21: -1\n"
     ]
    }
   ],
   "source": [
    "# Non Recursive Binary Search\n",
    "\n",
    "def binSearch(array, target):\n",
    "    left = 0\n",
    "    right = len(array)-1\n",
    "\n",
    "    while left <= right:\n",
    "        middle = (left+right) // 2\n",
    "\n",
    "        if array[middle] == target:\n",
    "            return middle\n",
    "        else:\n",
    "            if array[middle] < target:\n",
    "                left = middle + 1\n",
    "            else:\n",
    "                right = middle - 1\n",
    "    else:\n",
    "        return -1\n",
    "# end of binSearch\n",
    "\n",
    "test_set = [1, 3, 5, 7, 11, 13, 17, 19, 23, 29, 31, 37, 41, 43, 47, 53, 59]\n",
    "\n",
    "print('Search for 37:', binSearch(test_set, 37))\n",
    "print('Search for 21:', binSearch(test_set, 21))"
   ]
  }
 ],
 "metadata": {
  "kernelspec": {
   "display_name": "Python 3",
   "language": "python",
   "name": "python3"
  },
  "language_info": {
   "codemirror_mode": {
    "name": "ipython",
    "version": 3
   },
   "file_extension": ".py",
   "mimetype": "text/x-python",
   "name": "python",
   "nbconvert_exporter": "python",
   "pygments_lexer": "ipython3",
   "version": "3.6.10"
  }
 },
 "nbformat": 4,
 "nbformat_minor": 4
}
