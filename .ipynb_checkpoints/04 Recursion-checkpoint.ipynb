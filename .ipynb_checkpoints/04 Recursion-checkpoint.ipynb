{
 "cells": [
  {
   "cell_type": "markdown",
   "metadata": {},
   "source": [
    "# Recursion\n",
    "---\n",
    "\n",
    "**Recursion:** a method to solve computational problem by relying on smaller instances of a solution to a given problem. \n",
    "\n",
    "The logic is that if we have a base case that helps to solves the smaller instance, then the base case solution helps to solve the bigger version of the solution.\n",
    "\n",
    "**Example of a common recursive function: Fibonacci Number*\n",
    "\n",
    "$fib(n)= fib(n-1) + fib(n-2)$\n",
    "\n",
    "$fib(0) = 0$\n",
    "\n",
    "$fib(1) = 1$\n",
    "\n",
    "| n | 0 | 1 | 2 | 3 | 4 | 5 | 6 | 7 | 8 | 9 | 10 |\n",
    "| - | - | - | - | - | - | - | - | - | - | - | - |\n",
    "| fib(n) | 0 | 1 | 1 | 2 | 3 | 5 | 8 | 13 | 21 | 34 | 55 |\n",
    "\n",
    "Fibonacci numbers are derived from its past instances. The next value in the fibonacci number sequence is always the sum of the last two values of the sequence. Hence, the fibonacci number sequence is a _recurrence relation_.\n",
    "\n",
    "In the function statements above, the n value determines the location of the sequence. Some groups ignore 0th fibonacci number all together; however, we will be keeping it for our definition sake.\n",
    "\n",
    "Here is the fibonacci number function in Python:"
   ]
  },
  {
   "cell_type": "code",
   "execution_count": 1,
   "metadata": {},
   "outputs": [
    {
     "name": "stdout",
     "output_type": "stream",
     "text": [
      "n=0, fib: 0\n",
      "n=1, fib: 1\n",
      "n=2, fib: 1\n",
      "n=4, fib: 3\n",
      "n=7, fib: 13\n"
     ]
    }
   ],
   "source": [
    "# Fibonacci Function \n",
    "def fibonacci(n):\n",
    "    if n == 0:\n",
    "        return 0\n",
    "    elif n == 1:\n",
    "        return 1\n",
    "    else:\n",
    "        return fibonacci(n-1) + fibonacci(n-2)\n",
    "\n",
    "print('n=0, fib:', fibonacci(0))\n",
    "print('n=1, fib:', fibonacci(1))\n",
    "print('n=2, fib:', fibonacci(2))\n",
    "print('n=4, fib:', fibonacci(4))\n",
    "print('n=7, fib:', fibonacci(7))"
   ]
  },
  {
   "cell_type": "markdown",
   "metadata": {},
   "source": [
    "**Note**\n",
    "```\n",
    "- This should be our very first time seeing an instance where we return a *function call*\n",
    "- The original fibonacci(n) is determined by the calculation of fibonacci(n-1) and fibonacci(n-2)\n",
    "- This will continously occur until we meet the condition of either n == 0 or n == 1\n",
    "```"
   ]
  },
  {
   "cell_type": "markdown",
   "metadata": {},
   "source": [
    "## Basic Idea of Recursion\n",
    "\n",
    "Let P be a problem:\n",
    "- Divide P into two or more subproblems (smaller instances)\n",
    "- Divide until the subproblems are simple enough to be solved\n",
    "- All the subproblem solutions are then combined to give a solution to the original problem\n",
    "- This is a basic program solving approach called:  **“[Divide and Conquer Algorithms](https://en.wikipedia.org/wiki/Divide-and-conquer_algorithm)”**\n",
    "\n",
    "_This also leads to the basis of “[Dynamic Programming](https://en.wikipedia.org/wiki/Dynamic_programming)”_\n",
    "\n",
    "\n"
   ]
  },
  {
   "cell_type": "markdown",
   "metadata": {},
   "source": [
    "## How to Design a Recursive Function\n",
    "\n",
    "**Recipe**: All recursive algorithms must have the following:\n",
    "1. **Base Case** (i.e., when to stop; the simplest solution of the problem)\n",
    "2. **Work toward Base Case:** where we make the problem simpler/smaller towards the base case\n",
    "3. Recursive Call (i.e., call ourselves)\n",
    "\n",
    "**How does it work?**\n",
    "- In a recursive algorithm, the computer \"remembers\" every previous state of the problem. \n",
    "- This information is \"held\" by the computer on the \"activation stack\" (i.e., inside of each functions workspace).\n",
    "- Every function has its own workspace PER CALL of the function.\n",
    "- Once all the recursive calls are complete, we get our first function call's answer/result\n",
    "\n",
    "**Importance of a basecase**\n",
    "\n",
    "The base case should hold the simplest solution for the simplest, smallest instance of the problem.\n",
    "\n",
    "_Base Case:_ In a recursion algorithm, the problem is broken down to subproblem until we reach the base case.\n",
    "- Recursion Algorithms can have multiple base cases\n",
    "- Base cases are considered “end conditions”\n"
   ]
  },
  {
   "cell_type": "markdown",
   "metadata": {},
   "source": [
    "## Example Problem: Adding all values from N to 1.\n",
    "\n",
    "- Let N be an integer value greater than 1\n",
    "- recursive_sum(n) will add all values from N to 1\n",
    "\n",
    "**Base Case:**\n",
    "```\n",
    "N of 0: 0, no calculation needed\n",
    "N of 1: 1, no calculation needed\n",
    "```\n",
    "\n",
    "**For all other N**\n",
    "```\n",
    "The sum of all numbers below N is N + the recursive_sum of N-1; therefore:\n",
    "\n",
    "recursive_sum(n) = n + recursive_sum(n-1)\n",
    "\n",
    "This solution is classified as O(n).\n",
    "```"
   ]
  },
  {
   "cell_type": "code",
   "execution_count": 3,
   "metadata": {},
   "outputs": [
    {
     "name": "stdout",
     "output_type": "stream",
     "text": [
      "n=1, result: 1\n",
      "n=2, result: 3\n",
      "n=4, result: 10\n",
      "n=7, result: 28\n",
      "n=11, result: 66\n"
     ]
    }
   ],
   "source": [
    "# Recursive Sum\n",
    "\n",
    "def recursive_sum(n):\n",
    "    if n == 0:\n",
    "        return 0\n",
    "    elif n == 1:\n",
    "        return 1\n",
    "    else:\n",
    "        return n + recursive_sum(n-1)\n",
    "# end of recursive_sum\n",
    "\n",
    "print('n=1, result:', recursive_sum(1))\n",
    "print('n=2, result:', recursive_sum(2))\n",
    "print('n=4, result:', recursive_sum(4))\n",
    "print('n=7, result:', recursive_sum(7))\n",
    "print('n=11, result:', recursive_sum(11))"
   ]
  },
  {
   "cell_type": "code",
   "execution_count": null,
   "metadata": {},
   "outputs": [],
   "source": []
  }
 ],
 "metadata": {
  "kernelspec": {
   "display_name": "Python 3",
   "language": "python",
   "name": "python3"
  },
  "language_info": {
   "codemirror_mode": {
    "name": "ipython",
    "version": 3
   },
   "file_extension": ".py",
   "mimetype": "text/x-python",
   "name": "python",
   "nbconvert_exporter": "python",
   "pygments_lexer": "ipython3",
   "version": "3.6.10"
  }
 },
 "nbformat": 4,
 "nbformat_minor": 4
}
