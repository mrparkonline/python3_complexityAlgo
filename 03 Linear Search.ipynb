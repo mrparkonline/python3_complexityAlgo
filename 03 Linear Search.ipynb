{
 "cells": [
  {
   "cell_type": "markdown",
   "metadata": {},
   "source": [
    "# Linear Search Algorithm\n",
    "---\n",
    "\n",
    "This algorithm is used for Strings and Lists often.\n",
    "\n",
    "- index() and find() are linear searches\n",
    "- in and not in membership for **strings and lists** are linear searches\n",
    "\n",
    "## Algorithm Classification\n",
    "\n",
    "- Big-O: O(n) hence the name \"Linear\" Search ... happens when the target is not found -or- target is the last value\n",
    "- Big-Omega: O(1) very first item is the target\n",
    "- Big-Theta: O(n/2) which simplifies to O(n) ... target is found somewhere in the middle\n",
    "\n",
    "### Linear Search Algorithm:\n",
    "```\n",
    "    # Let L be a list of items; i be the index, and N be the number of items\n",
    "    # Let T be a Target\n",
    "    1 Set i to 0\n",
    "    2 If L at i == Target, then return i\n",
    "    3 Else increase i by 1 and repeat back to Line 2\n",
    "    4 If i > N, and target has not been found, then return -1\n",
    "```\n",
    "\n"
   ]
  },
  {
   "cell_type": "code",
   "execution_count": 7,
   "metadata": {},
   "outputs": [
    {
     "name": "stdout",
     "output_type": "stream",
     "text": [
      "Random List:\n",
      " [18, 73, 98, 9, 33, 16, 64, 98, 58, 61, 84, 49, 27, 13, 63, 4, 50, 56, 78, 98]\n",
      "--\n",
      "Search 18 in seq: Found at 0\n",
      "Search 61 in seq: Found at 9\n",
      "Search 42 in seq: Found at -1\n"
     ]
    }
   ],
   "source": [
    "# Python Implementation\n",
    "\n",
    "def linSearch(seq, target):\n",
    "    ''' linSearch determines the location of the target in the sequence\n",
    "    \n",
    "    -- param\n",
    "    seq : iterable/indexable data\n",
    "    target : any data\n",
    "    \n",
    "    -- return\n",
    "    integer\n",
    "    '''\n",
    "    \n",
    "    if not seq:\n",
    "        return -1\n",
    "    else:\n",
    "        for i in range(len(seq)):\n",
    "            if seq[i] == target:\n",
    "                return i\n",
    "        else:\n",
    "            return -1\n",
    "# end of linSearch\n",
    "\n",
    "# Example Execution\n",
    "from random import seed\n",
    "from random import randrange\n",
    "\n",
    "seed(1)\n",
    "seq = [randrange(1,100) for x in range(20)]\n",
    "print('Random List:\\n', seq)\n",
    "\n",
    "print('--\\nSearch %d in seq: Found at %d' % (18, linSearch(seq, 18)))\n",
    "print('Search %d in seq: Found at %d' % (61, linSearch(seq, 61)))\n",
    "print('Search %d in seq: Found at %d' % (42, linSearch(seq, 42)))"
   ]
  },
  {
   "cell_type": "markdown",
   "metadata": {},
   "source": [
    "### Python 3 Note\n",
    "\n",
    "```python\n",
    "\n",
    "#Method 2\n",
    "def linSearch(seq, target):\n",
    "\tctr = 0\n",
    "\twhile ctr < len(array):\n",
    "\t\tif array[ctr] == target:\n",
    "\t\t\treturn ctr\n",
    "\t\tctr += 1\n",
    "\telse:\n",
    "\t\treturn -1\n",
    "\n",
    "```\n",
    "\n",
    "Some of you may want to use a while loop with a counter rather than coding a for loop. \n",
    "\n",
    "It is not recommended to do so because:\n",
    "\n",
    "**```\n",
    "    A while loop must check its condition on each iteration; whereas, a for loop has no looping condition to check at every iteration.\n",
    "```**"
   ]
  },
  {
   "cell_type": "code",
   "execution_count": null,
   "metadata": {},
   "outputs": [],
   "source": []
  }
 ],
 "metadata": {
  "kernelspec": {
   "display_name": "Python 3",
   "language": "python",
   "name": "python3"
  },
  "language_info": {
   "codemirror_mode": {
    "name": "ipython",
    "version": 3
   },
   "file_extension": ".py",
   "mimetype": "text/x-python",
   "name": "python",
   "nbconvert_exporter": "python",
   "pygments_lexer": "ipython3",
   "version": "3.6.10"
  }
 },
 "nbformat": 4,
 "nbformat_minor": 4
}
