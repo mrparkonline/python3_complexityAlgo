{
 "cells": [
  {
   "cell_type": "markdown",
   "metadata": {},
   "source": [
    "# Runtime Analysis\n",
    "---\n",
    "\n",
    "## Simple Runtime Calculation with Python 3\n",
    "\n",
    "When we are creating a solution for a problem we can be hindered by the efficency of our solution. A more efficient and well optimized code will run and solve the problem much faster than a less efficient code.\n",
    "\n",
    "- There are mathematical proofs / analysis you can do to your code to see the theoretical classification of your solution. _Currently this method is beyond the scope of the course, so we will only learn the classification not the proofs_\n",
    "- We will use a built-in python module to help us calculate the runtime of our code.\n",
    "    - This way we can compare multiple version of a solution if we have any\n",
    "    - We can measure performance based on different parameters and inputs\n",
    "    - This will help us test our code\n",
    "    - More of the library can be found [here](https://docs.python.org/3/library/timeit.html)"
   ]
  },
  {
   "cell_type": "markdown",
   "metadata": {},
   "source": [
    "### Example Problem: Most Number of Factors\n",
    "\n",
    "We will be looking at a simple problem:\n",
    "- Look at numbers from 1 to N; N being an integer greater than 1.\n",
    "- Calculate the number of factors of each N<sub>i</sub> has\n",
    "- Output the number that created the largest factor\n",
    "\n",
    "#### Method 1:"
   ]
  },
  {
   "cell_type": "code",
   "execution_count": 11,
   "metadata": {},
   "outputs": [
    {
     "name": "stdout",
     "output_type": "stream",
     "text": [
      "Run Time: 4.807014966005227\n"
     ]
    }
   ],
   "source": [
    "# Most Number of Factors; Method 1\n",
    "# Running a timer once\n",
    "\n",
    "def factor_counter(n):\n",
    "    \"\"\" factor_counter() determines the number of factors N has \"\"\"\n",
    "    \n",
    "    ctr = 0\n",
    "    for divisor in range(1,n+1):\n",
    "        if n % divisor == 0:\n",
    "            ctr += 1\n",
    "    \n",
    "    return ctr\n",
    "# end of factor_counter\n",
    "\n",
    "from timeit import default_timer as timer\n",
    "\n",
    "start_timer = timer() # Starting the Timer\n",
    "\n",
    "# Testing Code\n",
    "upper_limit = 10000\n",
    "max_count = 0\n",
    "result = 0\n",
    "\n",
    "for n in range(1,upper_limit):\n",
    "    n_ctr = factor_counter(n)\n",
    "    \n",
    "    if n_ctr > max_count:\n",
    "        result = n\n",
    "        max_count = n_ctr\n",
    "# Testing Code Finished\n",
    "\n",
    "end_timer = timer() # Ending the Timer\n",
    "\n",
    "# run_time calculation\n",
    "run_time = end_timer - start_timer\n",
    "\n",
    "print('Run Time:', run_time)"
   ]
  },
  {
   "cell_type": "markdown",
   "metadata": {},
   "source": [
    "#### Method 1: Starting a timer() and ending a timer()\n",
    "\n",
    "We are taking a function from the **timeit** module called a **default_timer** and called it **timer**.\n",
    "\n",
    "When we are about the test the runtime of our code. We are going to section off the execution portion of the code.\n",
    "- At the beginning, we will _'start'_ the timer ... timestamp of when the code started\n",
    "- At the end, we will _'end'_ the timer .. timestamp of when the code ended \n",
    "- We can calculate the run time by subtracting the end time and start time\n",
    "\n",
    "In this example, the program took abour 4.8 seconds for analyzing 1 to 10,000.\n",
    "\n",
    "#### Method 2:"
   ]
  },
  {
   "cell_type": "code",
   "execution_count": 12,
   "metadata": {},
   "outputs": [
    {
     "name": "stdout",
     "output_type": "stream",
     "text": [
      "Run Time: 4.35833643010119\n"
     ]
    }
   ],
   "source": [
    "# Most Number of Factors; Method 2\n",
    "# Average Execution Calculation ... little more messy\n",
    "\n",
    "testing_code = ''' \n",
    "def factor_counter(n):\n",
    "    \"\"\" factor_counter() determines the number of factors N has \"\"\"\n",
    "    \n",
    "    ctr = 0\n",
    "    for divisor in range(1,n+1):\n",
    "        if n % divisor == 0:\n",
    "            ctr += 1\n",
    "    \n",
    "    return ctr\n",
    "# end of factor_counter\n",
    "\n",
    "upper_limit = 10000\n",
    "max_count = 0\n",
    "result = 0\n",
    "\n",
    "for n in range(1,upper_limit):\n",
    "    n_ctr = factor_counter(n)\n",
    "    \n",
    "    if n_ctr > max_count:\n",
    "        result = n\n",
    "        max_count = n_ctr\n",
    "'''\n",
    "\n",
    "import timeit as t\n",
    "\n",
    "# run_time calculation\n",
    "run_time = t.timeit(testing_code, number=10) / 10\n",
    "\n",
    "print('Run Time:', run_time)"
   ]
  },
  {
   "cell_type": "markdown",
   "metadata": {},
   "source": [
    "#### Method 2: Using timeit()\n",
    "\n",
    "In this method, we are using the **timeit()** function from the _timeit_ module.\n",
    "\n",
    "To lessen the confusion, we renamed the name module as 't' like so:\n",
    "```python \n",
    "import timeit as t```\n",
    "\n",
    "- **_testing code_** ; holds the lines of code we are testing as a long string variable (hence the messiness!)\n",
    "- **_number=10_** ; we are specifying how many times to test our code by setting a built-in argument called _number_\n",
    "- **_/10_** ; we divide it by 10 because the result of timeit is is the total sum of the number of times we ran the code\n",
    "\n",
    "[Source](https://pythonhow.com/measure-execution-time-python-code/)"
   ]
  },
  {
   "cell_type": "markdown",
   "metadata": {},
   "source": [
    "## Refactoring\n",
    "\n",
    "**Unit:** A segment of a program that handles a problem’s specific requirement.\n",
    "\n",
    "**Refactoring:** The act of improving the performance and efficiency of the unit (section of a program) without affecting input and the output of the unit.\n",
    "\n",
    "If a program is simplified to its Input → Processing → Output, then we are trying to optimize the “Processing” section of the program by Refactoring.\n",
    "\n",
    "### Refactoring: Most Number of Factors\n",
    "\n",
    "**Unit to Refactor:**\n",
    "```python\n",
    "def factor_counter(n):\n",
    "    \"\"\" factor_counter() determines the number of factors N has \"\"\"\n",
    "    \n",
    "    ctr = 0\n",
    "    for divisor in range(1,n+1):\n",
    "        if n % divisor == 0:\n",
    "            ctr += 1\n",
    "    \n",
    "    return ctr\n",
    "# end of factor_counter\n",
    "```\n",
    "\n",
    "- This code is not the most efficient one, and we will make some optimizations to help it run faster.\n",
    "    - A product of a number is pair of factors; therefore N = A * B where A and B are factors of N\n",
    "    - If A is a Factor of N, then we can calculate B by N / A. This helps us a find two factors at once.\n",
    "    - This way we also need to iterate our for loop only up to the Square Root of N.\n",
    "        - If N is a perfect square, we can increase our count by 1 to denote that Square Root of N is a factor.\n",
    "    - Yes, there are even more optimizations that can be done...\n"
   ]
  },
  {
   "cell_type": "code",
   "execution_count": 21,
   "metadata": {},
   "outputs": [
    {
     "name": "stdout",
     "output_type": "stream",
     "text": [
      "Run Time: 0.10893374489969573\n"
     ]
    }
   ],
   "source": [
    "# Refactored Most Number of Factor Counter Solution\n",
    "# Average Execution Calculation\n",
    "\n",
    "testing_code = ''' \n",
    "def factor_counter(n):\n",
    "    \"\"\" factor_counter() determines the number of factors N has \"\"\"\n",
    "    \n",
    "    ctr = 0\n",
    "    if n < 9:\n",
    "        # difference of speed between the optimized and non-optimized is very minimial on small numbers\n",
    "        for divisor in range(1,n+1):\n",
    "            if n % divisor == 0:\n",
    "                ctr += 1\n",
    "        \n",
    "        return ctr\n",
    "    else:\n",
    "        end_point = int(n**0.5) + 1\n",
    "\n",
    "        for divisor in range(1, end_point):\n",
    "            if n % divisor == 0 and (n // divisor) != divisor:\n",
    "                ctr += 2\n",
    "            elif n % divisor == 0 and (n // divisor) == divisor:\n",
    "                ctr += 1\n",
    "            \n",
    "    return ctr\n",
    "# end of factor_counter\n",
    "\n",
    "upper_limit = 10000\n",
    "max_count = 0\n",
    "result = 0\n",
    "\n",
    "for n in range(1,upper_limit):\n",
    "    n_ctr = factor_counter(n)\n",
    "    \n",
    "    if n_ctr > max_count:\n",
    "        result = n\n",
    "        max_count = n_ctr\n",
    "'''\n",
    "\n",
    "import timeit as t\n",
    "\n",
    "# run_time calculation\n",
    "run_time = t.timeit(testing_code, number=10) / 10\n",
    "\n",
    "print('Run Time:', run_time)"
   ]
  },
  {
   "cell_type": "markdown",
   "metadata": {},
   "source": [
    "### Notes:\n",
    "- Our runtime of the solution went from an average of 4.4 seconds to 0.11 seconds\n",
    "- This was achieve by very minor optimization steps that made us create dramatic changes\n",
    "- Please understand that the function **factor_counter()** did not changes its **inputs** nor **outputs**\n",
    "\n",
    "**Optimized Code:**\n",
    "```python\n",
    "def factor_counter(n):\n",
    "    \"\"\" factor_counter() determines the number of factors N has \"\"\"\n",
    "    \n",
    "    ctr = 0\n",
    "    if n < 9:\n",
    "        # difference of speed between the optimized and non-optimized is very minimial on small numbers\n",
    "        for divisor in range(1,n+1):\n",
    "            if n % divisor == 0:\n",
    "                ctr += 1\n",
    "        \n",
    "        return ctr\n",
    "    else:\n",
    "        end_point = int(n**0.5) + 1\n",
    "\n",
    "        for divisor in range(1, end_point):\n",
    "            if n % divisor == 0 and (n // divisor) != divisor:\n",
    "                ctr += 2\n",
    "            elif n % divisor == 0 and (n // divisor) == divisor:\n",
    "                ctr += 1\n",
    "            \n",
    "    return ctr\n",
    "```"
   ]
  }
 ],
 "metadata": {
  "kernelspec": {
   "display_name": "Python 3",
   "language": "python",
   "name": "python3"
  },
  "language_info": {
   "codemirror_mode": {
    "name": "ipython",
    "version": 3
   },
   "file_extension": ".py",
   "mimetype": "text/x-python",
   "name": "python",
   "nbconvert_exporter": "python",
   "pygments_lexer": "ipython3",
   "version": "3.6.10"
  }
 },
 "nbformat": 4,
 "nbformat_minor": 4
}
