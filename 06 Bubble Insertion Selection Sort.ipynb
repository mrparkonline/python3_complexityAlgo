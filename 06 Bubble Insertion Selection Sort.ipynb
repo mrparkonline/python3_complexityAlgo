{
 "cells": [
  {
   "cell_type": "markdown",
   "metadata": {},
   "source": [
    "# Bubble Sort\n",
    "---\n",
    "\n",
    "A sorting algorithm that is based upon comparing pairs of values and swapping their places if necessary\n",
    "\n",
    "**Overall Idea:** \n",
    "    \n",
    "```\n",
    "- (L→ List, i→ index, i starts at 1)    \n",
    "- Look at L[i] and L[i-1] if they are not sorted, swap locations\n",
    "- Repeat as you increase i and until no swap occurs\n",
    "```\n",
    "\n",
    "**Bubble Sort Demonstration:**\n",
    "\n",
    "[Source](https://upload.wikimedia.org/wikipedia/commons/c/c8/Bubble-sort-example-300px.gif)\n",
    "\n",
    "<img src='./src/bubble.gif'/>\n",
    "\n",
    "**Bubble Sort Algorithm Definition:**\n",
    "```\n",
    "repeat until swapped is false\n",
    "\tswapped = false\n",
    "\tfor i = 1 to N-1 (inclusively)\n",
    "\t\tif A[i-1] > A[i] then\n",
    "\t\t\tswap(A[i-1],A[i])\n",
    "\t\t\tswapped = true\n",
    "```\n",
    "**Python Implementation:**"
   ]
  },
  {
   "cell_type": "code",
   "execution_count": 3,
   "metadata": {},
   "outputs": [
    {
     "name": "stdout",
     "output_type": "stream",
     "text": [
      "Sorted: [1, 3, 3, 4, 5, 6, 7, 8]\n"
     ]
    }
   ],
   "source": [
    "# Bubble Sort:\n",
    "def bubble(array):\n",
    "    swapped = True\n",
    "\n",
    "    if not array:\n",
    "        return []\n",
    "    elif len(array) == 1:\n",
    "        return array\n",
    "    else:\n",
    "        while swapped:\n",
    "            swapped = False\n",
    "            # Execute necessary swaps from array[1] to array[n]\n",
    "            for i in range(1,len(array)):\n",
    "                if array[i-1] > array[i]:\n",
    "                    # swapping; set swapped to True\n",
    "                    temp = array[i-1]\n",
    "                    array[i-1] = array[i]\n",
    "                    array[i] = temp\n",
    "                    swapped = True\n",
    "            # end of for\n",
    "        # end of while\n",
    "        return array\n",
    "# end of bubble()\n",
    "\n",
    "test = [6, 5, 3, 1, 8, 7, 3, 4]\n",
    "bubble(test) # since it is a list, it will mutate it\n",
    "\n",
    "print('Sorted:', test)"
   ]
  },
  {
   "cell_type": "markdown",
   "metadata": {},
   "source": [
    "# Insertion Sort\n",
    "---\n",
    "\n",
    "A sorting algorithm that iterates sorts from the bottom one element at a time.\n",
    "\n",
    "**Overall Idea:**\n",
    "- Since a singleton list is already sorted, it will grow its “sorted” list with the next value from the list\n",
    "- It grabs the next value, removes it, and places in the correct location\n",
    "- It does this until the list is fully sorted\n",
    "\n",
    "**Insertion Sort Demonstration:**\n",
    "\n",
    "[Source](https://upload.wikimedia.org/wikipedia/commons/0/0f/Insertion-sort-example-300px.gif)\n",
    "\n",
    "<img src='./src/insert.gif' />\n",
    "\n",
    "**Insertion Sort Algorithm Definition:**\n",
    "```\n",
    "-- Let A be a List, i and j both be indexes\n",
    "\n",
    "i = 1\n",
    "while i < length(A)\n",
    "\tj = i\n",
    "\twhile j > 0 and A[j-1] > A[j]\n",
    "\t\tswap A[j] and A[j-1]\n",
    "\t\tj = j - 1\n",
    "\ti = i + 1\n",
    "\n",
    "```\n",
    "**Python Implementation:**"
   ]
  },
  {
   "cell_type": "code",
   "execution_count": 4,
   "metadata": {},
   "outputs": [
    {
     "name": "stdout",
     "output_type": "stream",
     "text": [
      "Sorted: [1, 3, 3, 4, 5, 6, 7, 8]\n"
     ]
    }
   ],
   "source": [
    "# Insertion Sort\n",
    "\n",
    "def insertSort(array):\n",
    "    i = 1\n",
    "\n",
    "    if not array:\n",
    "        return []\n",
    "    elif len(array) == 1:\n",
    "        return array\n",
    "    else:\n",
    "        while i < len(array):\n",
    "            j = i # setting up j indexer\n",
    "            while j > 0 and array[j-1] > array[j]:\n",
    "                # swapping\n",
    "                temp = array[j]\n",
    "                array[j] = array[j-1]\n",
    "                array[j-1] = temp\n",
    "\n",
    "                # decrease j\n",
    "                j -= 1\n",
    "            # end of inner while\n",
    "            i += 1\n",
    "        # end of while\n",
    "        return array\n",
    "# end of insertSort()\n",
    "\n",
    "test = [6, 5, 3, 1, 8, 7, 3, 4]\n",
    "insertSort(test) # since it is a list, it will mutate it\n",
    "\n",
    "print('Sorted:', test)"
   ]
  },
  {
   "cell_type": "markdown",
   "metadata": {},
   "source": [
    "# Selection Sort\n",
    "---\n",
    "\n",
    "A sorting algorithm that uses two lists: sorted list and unsorted list. \n",
    "\n",
    "It brings the values to the sorted list in a sorted way.\n",
    "\n",
    "**Overall Idea:**\n",
    "- At beginning, sorted list is empty and unsorted list is full\n",
    "- Choose the smaller(or largest) value from the unsorted list, and append it to the sorted list\n",
    "- Repeat until unsorted list is empty\n",
    "\n",
    "**Selection Sort Demonstration:**\n",
    "\n",
    "[Source](https://upload.wikimedia.org/wikipedia/commons/9/94/Selection-Sort-Animation.gif)\n",
    "\n",
    "<img src='./src/select.gif' />\n",
    "\n",
    "**Selection Sort Algorithm Definition:**\n",
    "```\n",
    "-- Let A be the unsorted list, and let B be the sorted list; B starts empty\n",
    "\n",
    "repeat until A is empty\n",
    "\n",
    "Target = the smallest value from A\n",
    "\n",
    "Append Target to B\n",
    "\n",
    "Remove target from A\n",
    "```\n",
    "\n",
    "**Python Implementation:**"
   ]
  },
  {
   "cell_type": "code",
   "execution_count": 6,
   "metadata": {},
   "outputs": [
    {
     "name": "stdout",
     "output_type": "stream",
     "text": [
      "Sorted: [1, 3, 3, 4, 5, 6, 7, 8]\n"
     ]
    }
   ],
   "source": [
    "# Recursive Selection Sort\n",
    "\n",
    "def selectSort(array, result=[]):\n",
    "    if not array:\n",
    "        return result\n",
    "    else:\n",
    "        smallest = array[0]\n",
    "        small_index = 0\n",
    "\n",
    "        for i in range(1,len(array)):\n",
    "            if array[i] < smallest:\n",
    "                smallest = array[i]\n",
    "                small_index = i\n",
    "        # end of for\n",
    "        result.append(array.pop(small_index))\n",
    "\n",
    "        return selectSort(array, result)\n",
    "\n",
    "test = [6, 5, 3, 1, 8, 7, 3, 4]\n",
    "sorted_test = selectSort(test) # the algorithm is designed to create/return a new list\n",
    "\n",
    "print('Sorted:', sorted_test)"
   ]
  },
  {
   "cell_type": "markdown",
   "metadata": {},
   "source": [
    "# Complexity of Bubble, Insertion, and Selection Sort.\n",
    "---\n",
    "\n",
    "The 3 sorting algorithms are learned together due to their Big-O Notation.\n",
    "\n",
    "All 3 algorithms are classified as $O(n^2)$.\n",
    "\n",
    "| Algorithm Names | Best Case | Average Case | Worst Case |\n",
    "| - | - | - | - |\n",
    "| Bubble Sort | $O(n)$ comparisons ; $O(1)$ swaps | $O(n^2)$ comparisons and swaps | $O(n^2)$ comparisons and swaps |\n",
    "| Insertion Sort | $O(n)$ comparisons ; $O(1)$ swaps | $O(n^2)$ comparisons and swaps | $O(n^2)$ comparisons and swaps | \n",
    "| Selection Sort | $O(n^2)$ comparisons ; $O(n)$ swaps | $O(n^2)$ comparisons ; $O(n)$ swaps | $O(n^2)$ comparisons ; $O(n)$ swaps |"
   ]
  },
  {
   "cell_type": "code",
   "execution_count": null,
   "metadata": {},
   "outputs": [],
   "source": []
  }
 ],
 "metadata": {
  "kernelspec": {
   "display_name": "Python 3",
   "language": "python",
   "name": "python3"
  },
  "language_info": {
   "codemirror_mode": {
    "name": "ipython",
    "version": 3
   },
   "file_extension": ".py",
   "mimetype": "text/x-python",
   "name": "python",
   "nbconvert_exporter": "python",
   "pygments_lexer": "ipython3",
   "version": "3.6.10"
  }
 },
 "nbformat": 4,
 "nbformat_minor": 4
}
